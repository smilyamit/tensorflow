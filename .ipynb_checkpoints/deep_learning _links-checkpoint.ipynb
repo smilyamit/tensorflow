{
 "cells": [
  {
   "cell_type": "markdown",
   "metadata": {},
   "source": [
    "[Reinforcement Learning explain](https://hackernoon.com/reinforcement-learning-and-supervised-learning-a-brief-comparison-1b6d68c45ffa)"
   ]
  },
  {
   "cell_type": "markdown",
   "metadata": {},
   "source": [
    "[link for Activation Functions expln](https://ml-cheatsheet.readthedocs.io/en/latest/activation_functions.html)"
   ]
  },
  {
   "cell_type": "code",
   "execution_count": 3,
   "metadata": {},
   "outputs": [],
   "source": [
    "# syntax for link [type name of link](just paste link here)\n",
    "import numpy as np\n",
    "import matplotlib.pyplot as plt\n",
    "%matplotlib inline\n",
    "\n"
   ]
  },
  {
   "cell_type": "code",
   "execution_count": 25,
   "metadata": {},
   "outputs": [
    {
     "data": {
      "text/plain": [
       "'/Users/koro/Desktop/Ml Practise /DL/tensorflow'"
      ]
     },
     "execution_count": 25,
     "metadata": {},
     "output_type": "execute_result"
    }
   ],
   "source": [
    "pwd"
   ]
  },
  {
   "cell_type": "code",
   "execution_count": 26,
   "metadata": {},
   "outputs": [
    {
     "name": "stdout",
     "output_type": "stream",
     "text": [
      "[0 1 2 3 4 5 6 7 8 9]\n",
      "0\n",
      "x_(weight): 1.000 l(Error): 16.000\n",
      "x_(weight): 1.800 l(Error): 10.240\n",
      "x_(weight): 2.440 l(Error): 6.554\n",
      "x_(weight): 2.952 l(Error): 4.194\n",
      "x_(weight): 3.362 l(Error): 2.684\n",
      "x_(weight): 3.689 l(Error): 1.718\n",
      "x_(weight): 3.951 l(Error): 1.100\n",
      "x_(weight): 4.161 l(Error): 0.704\n",
      "x_(weight): 4.329 l(Error): 0.450\n",
      "x_(weight): 4.463 l(Error): 0.288\n",
      "x_(weight): 4.571 l(Error): 0.184\n",
      "x_(weight): 4.656 l(Error): 0.118\n",
      "x_(weight): 4.725 l(Error): 0.076\n",
      "x_(weight): 4.780 l(Error): 0.048\n",
      "x_(weight): 4.824 l(Error): 0.031\n",
      "x_(weight): 4.859 l(Error): 0.020\n",
      "x_(weight): 4.887 l(Error): 0.013\n",
      "x_(weight): 4.910 l(Error): 0.008\n",
      "x_(weight): 4.928 l(Error): 0.005\n",
      "x_(weight): 4.942 l(Error): 0.003\n",
      "x_(weight): 4.954 l(Error): 0.002\n",
      "x_(weight): 4.963 l(Error): 0.001\n",
      "x_(weight): 4.970 l(Error): 0.001\n",
      "x_(weight): 4.976 l(Error): 0.001\n",
      "x_(weight): 4.981 l(Error): 0.000\n"
     ]
    },
    {
     "data": {
      "image/png": "[encoded data removed]",
      "text/plain": [
       "<Figure size 576x396 with 1 Axes>"
      ]
     },
     "metadata": {},
     "output_type": "display_data"
    }
   ],
   "source": [
    "x= np.arange(10)\n",
    "print(x)\n",
    "def loss_fun(x):\n",
    "    return (x-5)**2\n",
    "loss = loss_fun(x)\n",
    "\n",
    "plt.style.use('seaborn')\n",
    "plt.plot(loss)\n",
    "plt.xlabel('Weight(w)')\n",
    "plt.ylabel('Error(e)')\n",
    "#plt.show()\n",
    "\n",
    "def gradient_dec():\n",
    "    x_ = 0           # x_ is nothing but optimal value, intially it can be any random value\n",
    "    l_rate = 0.1     # learning_rate is nothing but the weights which will be updated in backward propragation in nn\n",
    "    \n",
    "    print(x_)\n",
    "   \n",
    "    \n",
    "    \n",
    "    for i in range(25):               # that 25 is nothing but no of epoch to get loss to 0 as earliest\n",
    "        gradient = 2*(x_-5)           # it is nothing but 1st derivative of loss(cost) function\n",
    "         \n",
    "        x_ = x_- l_rate * gradient    # i value for each iteration is changed in value of x_ (not in var x_)\n",
    "                                      #also in real formula for each neuron(Xi) W* = w* - a*gradient*Xi\n",
    "        \n",
    "        l = loss_fun(x_)              #here actually loss(l) fun start with 16 as x_ = 1 in 1st interation for x_ = 0\n",
    "        print(\"x_(weight): %.3f l(Error): %.3f\"  %(x_, l))\n",
    "        \n",
    "        plt.scatter(x_, l)\n",
    "        \n",
    "        \n",
    "        \n",
    "gradient_dec()"
   ]
  },
  {
   "cell_type": "code",
   "execution_count": null,
   "metadata": {},
   "outputs": [],
   "source": []
  }
 ],
 "metadata": {
  "kernelspec": {
   "display_name": "Python 3",
   "language": "python",
   "name": "python3"
  },
  "language_info": {
   "codemirror_mode": {
    "name": "ipython",
    "version": 3
   },
   "file_extension": ".py",
   "mimetype": "text/x-python",
   "name": "python",
   "nbconvert_exporter": "python",
   "pygments_lexer": "ipython3",
   "version": "3.7.6"
  }
 },
 "nbformat": 4,
 "nbformat_minor": 4
}
